{
  "nbformat": 4,
  "nbformat_minor": 2,
  "metadata": {
    "colab": {
      "name": "Copy of Project 5. Fake News Prediction.ipynb",
      "provenance": [],
      "collapsed_sections": []
    },
    "kernelspec": {
      "name": "python3",
      "display_name": "Python 3.9.6 64-bit"
    },
    "language_info": {
      "name": "python",
      "version": "3.9.6",
      "mimetype": "text/x-python",
      "codemirror_mode": {
        "name": "ipython",
        "version": 3
      },
      "pygments_lexer": "ipython3",
      "nbconvert_exporter": "python",
      "file_extension": ".py"
    },
    "interpreter": {
      "hash": "2353f16e5be9113efa5ec4b0450efea05015a0ded0dcc7e581ed4953b8a0e356"
    }
  },
  "cells": [
    {
      "cell_type": "markdown",
      "source": [
        "Team SAO presents to you a high accuracy model to predict whether the news is real or fake."
      ],
      "metadata": {
        "id": "_QakZYWA0YB6"
      }
    },
    {
      "cell_type": "markdown",
      "source": [
        "**Dataset Description**\r\n",
        "\r\n",
        "1. id: Unique serial number of the news\r\n",
        "2. title: Title of a news\r\n",
        "3. author: Author/Editor of the news article\r\n",
        "4. content: The text of the article\r\n",
        "5. label: a label that marks whether the news article is real or fake:\r\n",
        "           1: if Fake news\r\n",
        "           0: if real News\r\n",
        "\r\n",
        "\r\n",
        "\r\n"
      ],
      "metadata": {
        "id": "FaIBmnXCknPl"
      }
    },
    {
      "cell_type": "markdown",
      "source": [
        "Importing the Dependencies"
      ],
      "metadata": {
        "id": "k399dHafvL5N"
      }
    },
    {
      "cell_type": "code",
      "execution_count": 1,
      "source": [
        "import numpy as np\r\n",
        "import pandas as pd\r\n",
        "import re\r\n",
        "from nltk.corpus import stopwords\r\n",
        "from nltk.stem.porter import PorterStemmer\r\n",
        "from sklearn.feature_extraction.text import TfidfVectorizer\r\n",
        "from sklearn.model_selection import train_test_split\r\n",
        "from sklearn.linear_model import LogisticRegression\r\n",
        "from sklearn.metrics import accuracy_score"
      ],
      "outputs": [],
      "metadata": {
        "id": "-fetC5yqkPVe"
      }
    },
    {
      "cell_type": "code",
      "execution_count": 2,
      "source": [
        "import nltk\r\n",
        "nltk.download('stopwords')#downloading stopwords package"
      ],
      "outputs": [
        {
          "output_type": "stream",
          "name": "stderr",
          "text": [
            "[nltk_data] Downloading package stopwords to\n",
            "[nltk_data]     C:\\Users\\gowai\\AppData\\Roaming\\nltk_data...\n",
            "[nltk_data]   Package stopwords is already up-to-date!\n"
          ]
        },
        {
          "output_type": "execute_result",
          "data": {
            "text/plain": [
              "True"
            ]
          },
          "metadata": {},
          "execution_count": 2
        }
      ],
      "metadata": {
        "colab": {
          "base_uri": "https://localhost:8080/"
        },
        "id": "1AC1YpmGwIDw",
        "outputId": "deb5c972-ac0a-43c1-f0d5-6cfa30e498fa"
      }
    },
    {
      "cell_type": "code",
      "execution_count": 3,
      "source": [
        "# Printing stopwords in English\r\n",
        "print(stopwords.words('english'))"
      ],
      "outputs": [
        {
          "output_type": "stream",
          "name": "stdout",
          "text": [
            "['i', 'me', 'my', 'myself', 'we', 'our', 'ours', 'ourselves', 'you', \"you're\", \"you've\", \"you'll\", \"you'd\", 'your', 'yours', 'yourself', 'yourselves', 'he', 'him', 'his', 'himself', 'she', \"she's\", 'her', 'hers', 'herself', 'it', \"it's\", 'its', 'itself', 'they', 'them', 'their', 'theirs', 'themselves', 'what', 'which', 'who', 'whom', 'this', 'that', \"that'll\", 'these', 'those', 'am', 'is', 'are', 'was', 'were', 'be', 'been', 'being', 'have', 'has', 'had', 'having', 'do', 'does', 'did', 'doing', 'a', 'an', 'the', 'and', 'but', 'if', 'or', 'because', 'as', 'until', 'while', 'of', 'at', 'by', 'for', 'with', 'about', 'against', 'between', 'into', 'through', 'during', 'before', 'after', 'above', 'below', 'to', 'from', 'up', 'down', 'in', 'out', 'on', 'off', 'over', 'under', 'again', 'further', 'then', 'once', 'here', 'there', 'when', 'where', 'why', 'how', 'all', 'any', 'both', 'each', 'few', 'more', 'most', 'other', 'some', 'such', 'no', 'nor', 'not', 'only', 'own', 'same', 'so', 'than', 'too', 'very', 's', 't', 'can', 'will', 'just', 'don', \"don't\", 'should', \"should've\", 'now', 'd', 'll', 'm', 'o', 're', 've', 'y', 'ain', 'aren', \"aren't\", 'couldn', \"couldn't\", 'didn', \"didn't\", 'doesn', \"doesn't\", 'hadn', \"hadn't\", 'hasn', \"hasn't\", 'haven', \"haven't\", 'isn', \"isn't\", 'ma', 'mightn', \"mightn't\", 'mustn', \"mustn't\", 'needn', \"needn't\", 'shan', \"shan't\", 'shouldn', \"shouldn't\", 'wasn', \"wasn't\", 'weren', \"weren't\", 'won', \"won't\", 'wouldn', \"wouldn't\"]\n"
          ]
        }
      ],
      "metadata": {
        "colab": {
          "base_uri": "https://localhost:8080/"
        },
        "id": "dxIOt3DowpUR",
        "outputId": "9f3409ac-c6bf-4276-8767-cbc9e00f2781"
      }
    },
    {
      "cell_type": "markdown",
      "source": [
        "Data Pre-processing"
      ],
      "metadata": {
        "id": "NjeGd1CLw_6R"
      }
    },
    {
      "cell_type": "code",
      "execution_count": 4,
      "source": [
        "# loading our train.csv dataset to a pandas DataFrame\r\n",
        "news_dataset = pd.read_csv('train.csv')"
      ],
      "outputs": [],
      "metadata": {
        "id": "nCGcpu_1wzLw",
        "colab": {
          "base_uri": "https://localhost:8080/",
          "height": 502
        },
        "outputId": "b9e7eb9c-9b13-4279-8054-90741e8a9298"
      }
    },
    {
      "cell_type": "code",
      "execution_count": 5,
      "source": [
        "news_dataset.shape"
      ],
      "outputs": [
        {
          "output_type": "execute_result",
          "data": {
            "text/plain": [
              "(20800, 5)"
            ]
          },
          "metadata": {},
          "execution_count": 5
        }
      ],
      "metadata": {
        "colab": {
          "base_uri": "https://localhost:8080/",
          "height": 166
        },
        "id": "aRgmbYSbxV4-",
        "outputId": "8d4581fc-fec7-4715-fa78-b2b3a1baa61b"
      }
    },
    {
      "cell_type": "code",
      "execution_count": 6,
      "source": [
        "# To see starting few data entries\r\n",
        "news_dataset.head()"
      ],
      "outputs": [
        {
          "output_type": "execute_result",
          "data": {
            "text/html": [
              "<div>\n",
              "<style scoped>\n",
              "    .dataframe tbody tr th:only-of-type {\n",
              "        vertical-align: middle;\n",
              "    }\n",
              "\n",
              "    .dataframe tbody tr th {\n",
              "        vertical-align: top;\n",
              "    }\n",
              "\n",
              "    .dataframe thead th {\n",
              "        text-align: right;\n",
              "    }\n",
              "</style>\n",
              "<table border=\"1\" class=\"dataframe\">\n",
              "  <thead>\n",
              "    <tr style=\"text-align: right;\">\n",
              "      <th></th>\n",
              "      <th>id</th>\n",
              "      <th>title</th>\n",
              "      <th>author</th>\n",
              "      <th>text</th>\n",
              "      <th>label</th>\n",
              "    </tr>\n",
              "  </thead>\n",
              "  <tbody>\n",
              "    <tr>\n",
              "      <th>0</th>\n",
              "      <td>0</td>\n",
              "      <td>House Dem Aide: We Didn’t Even See Comey’s Let...</td>\n",
              "      <td>Darrell Lucus</td>\n",
              "      <td>House Dem Aide: We Didn’t Even See Comey’s Let...</td>\n",
              "      <td>1</td>\n",
              "    </tr>\n",
              "    <tr>\n",
              "      <th>1</th>\n",
              "      <td>1</td>\n",
              "      <td>FLYNN: Hillary Clinton, Big Woman on Campus - ...</td>\n",
              "      <td>Daniel J. Flynn</td>\n",
              "      <td>Ever get the feeling your life circles the rou...</td>\n",
              "      <td>0</td>\n",
              "    </tr>\n",
              "    <tr>\n",
              "      <th>2</th>\n",
              "      <td>2</td>\n",
              "      <td>Why the Truth Might Get You Fired</td>\n",
              "      <td>Consortiumnews.com</td>\n",
              "      <td>Why the Truth Might Get You Fired October 29, ...</td>\n",
              "      <td>1</td>\n",
              "    </tr>\n",
              "    <tr>\n",
              "      <th>3</th>\n",
              "      <td>3</td>\n",
              "      <td>15 Civilians Killed In Single US Airstrike Hav...</td>\n",
              "      <td>Jessica Purkiss</td>\n",
              "      <td>Videos 15 Civilians Killed In Single US Airstr...</td>\n",
              "      <td>1</td>\n",
              "    </tr>\n",
              "    <tr>\n",
              "      <th>4</th>\n",
              "      <td>4</td>\n",
              "      <td>Iranian woman jailed for fictional unpublished...</td>\n",
              "      <td>Howard Portnoy</td>\n",
              "      <td>Print \\nAn Iranian woman has been sentenced to...</td>\n",
              "      <td>1</td>\n",
              "    </tr>\n",
              "  </tbody>\n",
              "</table>\n",
              "</div>"
            ],
            "text/plain": [
              "   id                                              title              author  \\\n",
              "0   0  House Dem Aide: We Didn’t Even See Comey’s Let...       Darrell Lucus   \n",
              "1   1  FLYNN: Hillary Clinton, Big Woman on Campus - ...     Daniel J. Flynn   \n",
              "2   2                  Why the Truth Might Get You Fired  Consortiumnews.com   \n",
              "3   3  15 Civilians Killed In Single US Airstrike Hav...     Jessica Purkiss   \n",
              "4   4  Iranian woman jailed for fictional unpublished...      Howard Portnoy   \n",
              "\n",
              "                                                text  label  \n",
              "0  House Dem Aide: We Didn’t Even See Comey’s Let...      1  \n",
              "1  Ever get the feeling your life circles the rou...      0  \n",
              "2  Why the Truth Might Get You Fired October 29, ...      1  \n",
              "3  Videos 15 Civilians Killed In Single US Airstr...      1  \n",
              "4  Print \\nAn Iranian woman has been sentenced to...      1  "
            ]
          },
          "metadata": {},
          "execution_count": 6
        }
      ],
      "metadata": {
        "id": "jjJ1eB6RxZaS"
      }
    },
    {
      "cell_type": "code",
      "execution_count": 7,
      "source": [
        "# Here Team SAO is counting the number of missing values in our dataset\r\n",
        "news_dataset.isnull().sum()"
      ],
      "outputs": [
        {
          "output_type": "execute_result",
          "data": {
            "text/plain": [
              "id           0\n",
              "title      558\n",
              "author    1957\n",
              "text        39\n",
              "label        0\n",
              "dtype: int64"
            ]
          },
          "metadata": {},
          "execution_count": 7
        }
      ],
      "metadata": {
        "id": "QYkDi4SwxlKi"
      }
    },
    {
      "cell_type": "code",
      "execution_count": 8,
      "source": [
        "# Replacing the null values with empty string to increase the accuracy of dataset\r\n",
        "news_dataset = news_dataset.fillna('')"
      ],
      "outputs": [],
      "metadata": {
        "id": "Mc04lQrhx57m"
      }
    },
    {
      "cell_type": "code",
      "execution_count": 9,
      "source": [
        "# merging the columns, author name and title present in the dataset\r\n",
        "news_dataset['content'] = news_dataset['author']+' '+news_dataset['title']"
      ],
      "outputs": [],
      "metadata": {
        "id": "H7TZgHszygxj"
      }
    },
    {
      "cell_type": "code",
      "execution_count": 10,
      "source": [
        "print(news_dataset['content'])#lets see what is in the content section"
      ],
      "outputs": [
        {
          "output_type": "stream",
          "name": "stdout",
          "text": [
            "0        Darrell Lucus House Dem Aide: We Didn’t Even S...\n",
            "1        Daniel J. Flynn FLYNN: Hillary Clinton, Big Wo...\n",
            "2        Consortiumnews.com Why the Truth Might Get You...\n",
            "3        Jessica Purkiss 15 Civilians Killed In Single ...\n",
            "4        Howard Portnoy Iranian woman jailed for fictio...\n",
            "                               ...                        \n",
            "20795    Jerome Hudson Rapper T.I.: Trump a ’Poster Chi...\n",
            "20796    Benjamin Hoffman N.F.L. Playoffs: Schedule, Ma...\n",
            "20797    Michael J. de la Merced and Rachel Abrams Macy...\n",
            "20798    Alex Ansary NATO, Russia To Hold Parallel Exer...\n",
            "20799              David Swanson What Keeps the F-35 Alive\n",
            "Name: content, Length: 20800, dtype: object\n"
          ]
        }
      ],
      "metadata": {
        "id": "cbF6GBBpzBey"
      }
    },
    {
      "cell_type": "code",
      "execution_count": 11,
      "source": [
        "# separating the data & label and assigning varaible X and Y to them\r\n",
        "X = news_dataset.drop(columns='label', axis=1)\r\n",
        "Y = news_dataset['label']"
      ],
      "outputs": [],
      "metadata": {
        "id": "LfBtAvLtzEo6"
      }
    },
    {
      "cell_type": "code",
      "execution_count": 12,
      "source": [
        "print(X)\r\n",
        "print(Y)"
      ],
      "outputs": [
        {
          "output_type": "stream",
          "name": "stdout",
          "text": [
            "          id                                              title  \\\n",
            "0          0  House Dem Aide: We Didn’t Even See Comey’s Let...   \n",
            "1          1  FLYNN: Hillary Clinton, Big Woman on Campus - ...   \n",
            "2          2                  Why the Truth Might Get You Fired   \n",
            "3          3  15 Civilians Killed In Single US Airstrike Hav...   \n",
            "4          4  Iranian woman jailed for fictional unpublished...   \n",
            "...      ...                                                ...   \n",
            "20795  20795  Rapper T.I.: Trump a ’Poster Child For White S...   \n",
            "20796  20796  N.F.L. Playoffs: Schedule, Matchups and Odds -...   \n",
            "20797  20797  Macy’s Is Said to Receive Takeover Approach by...   \n",
            "20798  20798  NATO, Russia To Hold Parallel Exercises In Bal...   \n",
            "20799  20799                          What Keeps the F-35 Alive   \n",
            "\n",
            "                                          author  \\\n",
            "0                                  Darrell Lucus   \n",
            "1                                Daniel J. Flynn   \n",
            "2                             Consortiumnews.com   \n",
            "3                                Jessica Purkiss   \n",
            "4                                 Howard Portnoy   \n",
            "...                                          ...   \n",
            "20795                              Jerome Hudson   \n",
            "20796                           Benjamin Hoffman   \n",
            "20797  Michael J. de la Merced and Rachel Abrams   \n",
            "20798                                Alex Ansary   \n",
            "20799                              David Swanson   \n",
            "\n",
            "                                                    text  \\\n",
            "0      House Dem Aide: We Didn’t Even See Comey’s Let...   \n",
            "1      Ever get the feeling your life circles the rou...   \n",
            "2      Why the Truth Might Get You Fired October 29, ...   \n",
            "3      Videos 15 Civilians Killed In Single US Airstr...   \n",
            "4      Print \\nAn Iranian woman has been sentenced to...   \n",
            "...                                                  ...   \n",
            "20795  Rapper T. I. unloaded on black celebrities who...   \n",
            "20796  When the Green Bay Packers lost to the Washing...   \n",
            "20797  The Macy’s of today grew from the union of sev...   \n",
            "20798  NATO, Russia To Hold Parallel Exercises In Bal...   \n",
            "20799    David Swanson is an author, activist, journa...   \n",
            "\n",
            "                                                 content  \n",
            "0      Darrell Lucus House Dem Aide: We Didn’t Even S...  \n",
            "1      Daniel J. Flynn FLYNN: Hillary Clinton, Big Wo...  \n",
            "2      Consortiumnews.com Why the Truth Might Get You...  \n",
            "3      Jessica Purkiss 15 Civilians Killed In Single ...  \n",
            "4      Howard Portnoy Iranian woman jailed for fictio...  \n",
            "...                                                  ...  \n",
            "20795  Jerome Hudson Rapper T.I.: Trump a ’Poster Chi...  \n",
            "20796  Benjamin Hoffman N.F.L. Playoffs: Schedule, Ma...  \n",
            "20797  Michael J. de la Merced and Rachel Abrams Macy...  \n",
            "20798  Alex Ansary NATO, Russia To Hold Parallel Exer...  \n",
            "20799            David Swanson What Keeps the F-35 Alive  \n",
            "\n",
            "[20800 rows x 5 columns]\n",
            "0        1\n",
            "1        0\n",
            "2        1\n",
            "3        1\n",
            "4        1\n",
            "        ..\n",
            "20795    0\n",
            "20796    0\n",
            "20797    0\n",
            "20798    1\n",
            "20799    1\n",
            "Name: label, Length: 20800, dtype: int64\n"
          ]
        }
      ],
      "metadata": {
        "id": "oHPBr540zl1h"
      }
    },
    {
      "cell_type": "markdown",
      "source": [
        "What is Stemming ?\n",
        "\n",
        "Stemming is a method of reducing a word to its ROOT WORD\n",
        "\n",
        "like:\n",
        "coder, coding, codes --> code ||\n",
        "\n",
        "Let's use this feature"
      ],
      "metadata": {
        "id": "0NwFcpqcz37a"
      }
    },
    {
      "cell_type": "code",
      "execution_count": 13,
      "source": [
        "port_stem = PorterStemmer()"
      ],
      "outputs": [],
      "metadata": {
        "id": "Ga_DaZxhzoWM"
      }
    },
    {
      "cell_type": "code",
      "execution_count": 14,
      "source": [
        "def stemming(content):\r\n",
        "    stemmed_content = re.sub('[^a-zA-Z]',' ',content)\r\n",
        "    stemmed_content = stemmed_content.lower()\r\n",
        "    stemmed_content = stemmed_content.split()\r\n",
        "    stemmed_content = [port_stem.stem(word) for word in stemmed_content if not word in stopwords.words('english')]\r\n",
        "    stemmed_content = ' '.join(stemmed_content)\r\n",
        "    return stemmed_content"
      ],
      "outputs": [],
      "metadata": {
        "id": "zY-n0dCh0e-y"
      }
    },
    {
      "cell_type": "markdown",
      "source": [
        "Now Applying stemming on content section of our dataset"
      ],
      "metadata": {
        "id": "rU619EGAtmFA"
      }
    },
    {
      "cell_type": "code",
      "execution_count": 15,
      "source": [
        "news_dataset['content'] = news_dataset['content'].apply(stemming)"
      ],
      "outputs": [],
      "metadata": {
        "id": "MBUIk4c94yTL"
      }
    },
    {
      "cell_type": "code",
      "execution_count": 16,
      "source": [
        "print(news_dataset['content']) #to see the effect stemming had on our dataset i.e. all words comes to its root version"
      ],
      "outputs": [
        {
          "output_type": "stream",
          "name": "stdout",
          "text": [
            "0        darrel lucu hous dem aid even see comey letter...\n",
            "1        daniel j flynn flynn hillari clinton big woman...\n",
            "2                   consortiumnew com truth might get fire\n",
            "3        jessica purkiss civilian kill singl us airstri...\n",
            "4        howard portnoy iranian woman jail fiction unpu...\n",
            "                               ...                        \n",
            "20795    jerom hudson rapper trump poster child white s...\n",
            "20796    benjamin hoffman n f l playoff schedul matchup...\n",
            "20797    michael j de la merc rachel abram maci said re...\n",
            "20798    alex ansari nato russia hold parallel exercis ...\n",
            "20799                            david swanson keep f aliv\n",
            "Name: content, Length: 20800, dtype: object\n"
          ]
        }
      ],
      "metadata": {
        "id": "xmwK-zyO5Stg"
      }
    },
    {
      "cell_type": "code",
      "execution_count": 17,
      "source": [
        "#separating the data and label columns\r\n",
        "X = news_dataset['content'].values\r\n",
        "Y = news_dataset['label'].values"
      ],
      "outputs": [],
      "metadata": {
        "id": "5ZIidnta5k5h"
      }
    },
    {
      "cell_type": "code",
      "execution_count": 18,
      "source": [
        "print(X) #to see what went in variable X"
      ],
      "outputs": [
        {
          "output_type": "stream",
          "name": "stdout",
          "text": [
            "['darrel lucu hous dem aid even see comey letter jason chaffetz tweet'\n",
            " 'daniel j flynn flynn hillari clinton big woman campu breitbart'\n",
            " 'consortiumnew com truth might get fire' ...\n",
            " 'michael j de la merc rachel abram maci said receiv takeov approach hudson bay new york time'\n",
            " 'alex ansari nato russia hold parallel exercis balkan'\n",
            " 'david swanson keep f aliv']\n"
          ]
        }
      ],
      "metadata": {
        "id": "3nA_SBZX6BeH"
      }
    },
    {
      "cell_type": "code",
      "execution_count": 19,
      "source": [
        "print(Y) #to see what went in variable Y"
      ],
      "outputs": [
        {
          "output_type": "stream",
          "name": "stdout",
          "text": [
            "[1 0 1 ... 0 1 1]\n"
          ]
        }
      ],
      "metadata": {
        "id": "NgkFGXkg6HS4"
      }
    },
    {
      "cell_type": "code",
      "execution_count": 20,
      "source": [
        "Y.shape"
      ],
      "outputs": [
        {
          "output_type": "execute_result",
          "data": {
            "text/plain": [
              "(20800,)"
            ]
          },
          "metadata": {},
          "execution_count": 20
        }
      ],
      "metadata": {
        "id": "Iu2ZEBkL6QTm"
      }
    },
    {
      "cell_type": "code",
      "execution_count": 21,
      "source": [
        "# converting the textual data(STRING) to numerical data using vectorizer to make the model simpler.\r\n",
        "vectorizer = TfidfVectorizer()\r\n",
        "vectorizer.fit(X)\r\n",
        "\r\n",
        "X = vectorizer.transform(X)"
      ],
      "outputs": [],
      "metadata": {
        "id": "BMfepsQZ6TES"
      }
    },
    {
      "cell_type": "code",
      "execution_count": 22,
      "source": [
        "print(X)"
      ],
      "outputs": [
        {
          "output_type": "stream",
          "name": "stdout",
          "text": [
            "  (0, 15686)\t0.28485063562728646\n",
            "  (0, 13473)\t0.2565896679337957\n",
            "  (0, 8909)\t0.3635963806326075\n",
            "  (0, 8630)\t0.29212514087043684\n",
            "  (0, 7692)\t0.24785219520671603\n",
            "  (0, 7005)\t0.21874169089359144\n",
            "  (0, 4973)\t0.233316966909351\n",
            "  (0, 3792)\t0.2705332480845492\n",
            "  (0, 3600)\t0.3598939188262559\n",
            "  (0, 2959)\t0.2468450128533713\n",
            "  (0, 2483)\t0.3676519686797209\n",
            "  (0, 267)\t0.27010124977708766\n",
            "  (1, 16799)\t0.30071745655510157\n",
            "  (1, 6816)\t0.1904660198296849\n",
            "  (1, 5503)\t0.7143299355715573\n",
            "  (1, 3568)\t0.26373768806048464\n",
            "  (1, 2813)\t0.19094574062359204\n",
            "  (1, 2223)\t0.3827320386859759\n",
            "  (1, 1894)\t0.15521974226349364\n",
            "  (1, 1497)\t0.2939891562094648\n",
            "  (2, 15611)\t0.41544962664721613\n",
            "  (2, 9620)\t0.49351492943649944\n",
            "  (2, 5968)\t0.3474613386728292\n",
            "  (2, 5389)\t0.3866530551182615\n",
            "  (2, 3103)\t0.46097489583229645\n",
            "  :\t:\n",
            "  (20797, 13122)\t0.2482526352197606\n",
            "  (20797, 12344)\t0.27263457663336677\n",
            "  (20797, 12138)\t0.24778257724396507\n",
            "  (20797, 10306)\t0.08038079000566466\n",
            "  (20797, 9588)\t0.174553480255222\n",
            "  (20797, 9518)\t0.2954204003420313\n",
            "  (20797, 8988)\t0.36160868928090795\n",
            "  (20797, 8364)\t0.22322585870464118\n",
            "  (20797, 7042)\t0.21799048897828688\n",
            "  (20797, 3643)\t0.21155500613623743\n",
            "  (20797, 1287)\t0.33538056804139865\n",
            "  (20797, 699)\t0.30685846079762347\n",
            "  (20797, 43)\t0.29710241860700626\n",
            "  (20798, 13046)\t0.22363267488270608\n",
            "  (20798, 11052)\t0.4460515589182236\n",
            "  (20798, 10177)\t0.3192496370187028\n",
            "  (20798, 6889)\t0.32496285694299426\n",
            "  (20798, 5032)\t0.4083701450239529\n",
            "  (20798, 1125)\t0.4460515589182236\n",
            "  (20798, 588)\t0.3112141524638974\n",
            "  (20798, 350)\t0.28446937819072576\n",
            "  (20799, 14852)\t0.5677577267055112\n",
            "  (20799, 8036)\t0.45983893273780013\n",
            "  (20799, 3623)\t0.37927626273066584\n",
            "  (20799, 377)\t0.5677577267055112\n"
          ]
        }
      ],
      "metadata": {
        "id": "MJj5esbs7Nzy"
      }
    },
    {
      "cell_type": "markdown",
      "source": [
        "Splitting the dataset to training & test data\r\n",
        "\r\n",
        "1.   80% in training\r\n",
        "2.   20% in test\r\n",
        "3.   Stratifying Y to ensure all training or test set doesn't get only one kind of outcome\r\n",
        "\r\n",
        "\r\n",
        "\r\n"
      ],
      "metadata": {
        "id": "mKBRGiSQ7YCZ"
      }
    },
    {
      "cell_type": "code",
      "execution_count": 23,
      "source": [
        "X_train, X_test, Y_train, Y_test = train_test_split(X, Y, test_size = 0.2, stratify=Y, random_state=2)"
      ],
      "outputs": [],
      "metadata": {
        "id": "VjMYwmBo7Pbx"
      }
    },
    {
      "cell_type": "markdown",
      "source": [
        "Training our Model: Bringing in Logistic Regression"
      ],
      "metadata": {
        "id": "rxDsQvgO8Oln"
      }
    },
    {
      "cell_type": "code",
      "execution_count": 24,
      "source": [
        "model = LogisticRegression()"
      ],
      "outputs": [],
      "metadata": {
        "id": "HrSItcqc7qAy"
      }
    },
    {
      "cell_type": "code",
      "execution_count": 25,
      "source": [
        "model.fit(X_train, Y_train)"
      ],
      "outputs": [
        {
          "output_type": "execute_result",
          "data": {
            "text/plain": [
              "LogisticRegression()"
            ]
          },
          "metadata": {},
          "execution_count": 25
        }
      ],
      "metadata": {
        "id": "fdVJ839l8Vgx"
      }
    },
    {
      "cell_type": "markdown",
      "source": [
        "Result time for the Model"
      ],
      "metadata": {
        "id": "sbPKIFT89W1C"
      }
    },
    {
      "cell_type": "markdown",
      "source": [
        "**Checking Accuracy Score**"
      ],
      "metadata": {
        "id": "YG6gqVty9ZDB"
      }
    },
    {
      "cell_type": "code",
      "execution_count": 26,
      "source": [
        "# accuracy score on the training data\r\n",
        "X_train_prediction = model.predict(X_train)\r\n",
        "training_data_accuracy = accuracy_score(X_train_prediction, Y_train)"
      ],
      "outputs": [],
      "metadata": {
        "id": "VgwtWZY59PBw"
      }
    },
    {
      "cell_type": "code",
      "execution_count": 27,
      "source": [
        "print('Accuracy score of the training data : ', training_data_accuracy*100, \"%\") # printing accuracy score of our training data"
      ],
      "outputs": [
        {
          "output_type": "stream",
          "name": "stdout",
          "text": [
            "Accuracy score of the training data :  98.65985576923076 %\n"
          ]
        }
      ],
      "metadata": {
        "id": "4L-r5mld-BFn"
      }
    },
    {
      "cell_type": "code",
      "execution_count": 28,
      "source": [
        "# accuracy score on the test data\r\n",
        "X_test_prediction = model.predict(X_test)\r\n",
        "test_data_accuracy = accuracy_score(X_test_prediction, Y_test)"
      ],
      "outputs": [],
      "metadata": {
        "id": "Kgcn13oO-H6e"
      }
    },
    {
      "cell_type": "code",
      "execution_count": 29,
      "source": [
        "print('Accuracy score of the test data : ', test_data_accuracy*100, \"%\") # printing accuracy score of our test data"
      ],
      "outputs": [
        {
          "output_type": "stream",
          "name": "stdout",
          "text": [
            "Accuracy score of the test data :  97.90865384615385 %\n"
          ]
        }
      ],
      "metadata": {
        "id": "9TG0Yof1-vg2"
      }
    },
    {
      "cell_type": "markdown",
      "source": [
        "So now we have got a nice score, let's predict now"
      ],
      "metadata": {
        "id": "Yun4seaE-6tV"
      }
    },
    {
      "cell_type": "code",
      "execution_count": 49,
      "source": [
        "#Predicting News Id No. 48 for example\r\n",
        "X_new = X_test[48]\r\n",
        "\r\n",
        "prediction = model.predict(X_new) #predicting\r\n",
        "print(prediction)\r\n",
        "\r\n",
        "if (prediction[0]==0):\r\n",
        "  print('\\t\\tThe news is Real\\n')\r\n",
        "else:\r\n",
        "  print('\\t\\tThe news is Fake\\n')\r\n",
        "\r\n"
      ],
      "outputs": [
        {
          "output_type": "stream",
          "name": "stdout",
          "text": [
            "[1]\n",
            "\t\tThe news is Fake\n",
            "\n"
          ]
        }
      ],
      "metadata": {
        "id": "lPjssDL_-zo8"
      }
    },
    {
      "cell_type": "code",
      "execution_count": 48,
      "source": [
        "print(Y_test[48])  "
      ],
      "outputs": [
        {
          "output_type": "stream",
          "name": "stdout",
          "text": [
            "0\n"
          ]
        }
      ],
      "metadata": {}
    }
  ]
}